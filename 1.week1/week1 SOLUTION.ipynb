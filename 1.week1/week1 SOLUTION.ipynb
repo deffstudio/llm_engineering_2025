{
 "cells": [
  {
   "cell_type": "markdown",
   "metadata": {},
   "source": [
    "# Week 1: Exercises & Solution"
   ]
  },
  {
   "cell_type": "code",
   "execution_count": 13,
   "metadata": {},
   "outputs": [],
   "source": [
    "# imports\n",
    "\n",
    "from dotenv import load_dotenv\n",
    "from IPython.display import Markdown, display, update_display\n",
    "from openai import OpenAI\n",
    "import ollama"
   ]
  },
  {
   "cell_type": "code",
   "execution_count": 2,
   "metadata": {},
   "outputs": [],
   "source": [
    "# constants\n",
    "\n",
    "MODEL_GPT = 'gpt-4o-mini'\n",
    "MODEL_LLAMA = 'llama3.2'"
   ]
  },
  {
   "cell_type": "code",
   "execution_count": 15,
   "metadata": {},
   "outputs": [],
   "source": [
    "# set up environment\n",
    "\n",
    "load_dotenv()\n",
    "openai = OpenAI()"
   ]
  },
  {
   "cell_type": "code",
   "execution_count": 20,
   "metadata": {},
   "outputs": [],
   "source": [
    "# here is the question; type over this to ask something new\n",
    "\n",
    "my_question = input(\"Please input your question:\")\n",
    "\n",
    "question = \"\"\"\n",
    "Please explain what this code does and why:\n",
    "yield from {book.get(\"author\") for book in books if book.get(\"author\")}\n",
    "\"\"\""
   ]
  },
  {
   "cell_type": "code",
   "execution_count": 21,
   "metadata": {},
   "outputs": [],
   "source": [
    "# prompts\n",
    "\n",
    "system_prompt = \"You are a helpful technical tutor who answers questions about python code, software engineering, data science and LLMs\"\n",
    "user_prompt = \"Please give a detailed explanation to the following question: \" + my_question"
   ]
  },
  {
   "cell_type": "code",
   "execution_count": 24,
   "metadata": {},
   "outputs": [],
   "source": [
    "# messages\n",
    "\n",
    "messages = [\n",
    "    {\"role\": \"system\", \"content\": system_prompt},\n",
    "    {\"role\": \"user\", \"content\": user_prompt}\n",
    "]"
   ]
  },
  {
   "cell_type": "code",
   "execution_count": 16,
   "metadata": {},
   "outputs": [
    {
     "data": {
      "text/markdown": [
       "Certainly! Let's break down the code you've provided, which is using the `yield from` statement along with a set comprehension to extract authors from a collection of books. Here's a step-by-step explanation of how it works:\n",
       "\n",
       "### Breakdown of the Code\n",
       "\n",
       "1. **Context:**\n",
       "   - The code is likely part of a generator function, which is designed to yield values one at a time. The `yield from` statement is a way to yield all the values from an iterable (in this case, a set comprehension) effectively.\n",
       "\n",
       "2. **Understanding `books`:**\n",
       "   - The variable `books` is expected to be an iterable (like a list) containing a collection of book-like dictionaries. Each dictionary represents a book with various attributes, which may include the author's name, title, publication year, etc.\n",
       "\n",
       "3. **The Set Comprehension:**\n",
       "   - `{book.get(\"author\") for book in books if book.get(\"author\")}`\n",
       "   - This is a set comprehension that does the following:\n",
       "     - It iterates through each `book` in the `books` iterable.\n",
       "     - For each `book`, it attempts to retrieve the value associated with the key `\"author\"` using the `get()` method. This method returns `None` if the key doesn't exist, which helps avoid `KeyError`.\n",
       "     - The `if book.get(\"author\")` part filters the results, ensuring that only books with a valid author (not `None` or empty) are considered.\n",
       "     - The result of the comprehension is a set of authors. A set automatically removes any duplicate entries, so each author will only appear once in the resulting set.\n",
       "\n",
       "4. **The `yield from` Statement:**\n",
       "   - `yield from` is a syntax that allows a generator to yield all the values from another iterable. In this case, it takes the set created from the set comprehension and yields each author one at a time. This means that if this code is inside a generator function, it would produce each author as a separate output value whenever the generator is iterated over.\n",
       "\n",
       "### Example and Explanation\n",
       "\n",
       "Let’s say you have the following data structure:\n",
       "\n",
       "python\n",
       "books = [\n",
       "    {\"title\": \"Book 1\", \"author\": \"Author A\"},\n",
       "    {\"title\": \"Book 2\", \"author\": \"Author B\"},\n",
       "    {\"title\": \"Book 3\", \"author\": None},\n",
       "    {\"title\": \"Book 4\", \"author\": \"Author A\"},\n",
       "    {\"title\": \"Book 5\", \"author\": \"Author C\"},\n",
       "    {\"title\": \"Book 6\"},  # No author\n",
       "]\n",
       "\n",
       "\n",
       "If we were to run the provided code within a generator function like this:\n",
       "\n",
       "python\n",
       "def get_authors(books):\n",
       "    yield from {book.get(\"author\") for book in books if book.get(\"author\")}\n",
       "\n",
       "\n",
       "When you call `list(get_authors(books))`, the output would be:\n",
       "\n",
       "python\n",
       "['Author A', 'Author B', 'Author C']  # Note: the order of authors may vary due to the nature of sets\n",
       "\n",
       "\n",
       "### Why Use This Code\n",
       "\n",
       "- **Efficiency:** Using a set comprehension ensures that we collect unique authors without duplicates.\n",
       "- **Simplicity:** Combining `yield from` with a comprehension provides a concise and readable way to yield a collection of values.\n",
       "- **Handling Missing Data:** The `get()` method allows for safe extraction of the author names without raising errors if the key is absent or the value is `None`.\n",
       "\n",
       "In summary, this code snippet is designed to efficiently yield unique authors from a list of books while handling cases where the author information might be missing."
      ],
      "text/plain": [
       "<IPython.core.display.Markdown object>"
      ]
     },
     "metadata": {},
     "output_type": "display_data"
    }
   ],
   "source": [
    "# Get gpt-4o-mini to answer, with streaming\n",
    "\n",
    "stream = openai.chat.completions.create(model=MODEL_GPT, messages=messages,stream=True)\n",
    "    \n",
    "response = \"\"\n",
    "display_handle = display(Markdown(\"\"), display_id=True)\n",
    "for chunk in stream:\n",
    "    response += chunk.choices[0].delta.content or ''\n",
    "    response = response.replace(\"```\",\"\").replace(\"markdown\", \"\")\n",
    "    update_display(Markdown(response), display_id=display_handle.display_id)"
   ]
  },
  {
   "cell_type": "code",
   "execution_count": 17,
   "metadata": {},
   "outputs": [
    {
     "data": {
      "text/markdown": [
       "**Code Breakdown**\n",
       "\n",
       "The given code snippet is a generator expression that uses `yield from` to extract author names from a list of books. Here's a detailed explanation:\n",
       "\n",
       "```python\n",
       "from typing import Dict, List\n",
       "\n",
       "# Assuming 'books' is a list of dictionaries where each dictionary represents a book.\n",
       "books = [\n",
       "    {\"title\": \"Book 1\", \"author\": \"Author A\"},\n",
       "    {\"title\": \"Book 2\", \"author\": None},  # Book with no author\n",
       "    {\"title\": \"Book 3\", \"author\": \"Author C\"}\n",
       "]\n",
       "\n",
       "# Dictionary to get values from a dictionary if they exist\n",
       "book = {}\n",
       "\n",
       "def get_value(dictionary: Dict, key: str) -> str:\n",
       "    return dictionary.get(key)\n",
       "\n",
       "# Generator expression that yields authors\n",
       "def get_authors():\n",
       "    yield from {get_value(book, \"author\") for book in books if get_value(book, \"author\")}\n",
       "```\n",
       "\n",
       "**What the Code Does**\n",
       "\n",
       "The `get_authors` generator function uses a combination of dictionary access and list comprehension to extract author names from the `books` list. Here's a step-by-step explanation:\n",
       "\n",
       "1. The `yield from` expression is used to delegate iteration to another iterator (in this case, an iterator created by the dictionary access).\n",
       "2. The dictionary `book` is used to get values from the books dictionaries using `get_value(dictionary, \"author\")`. This ensures that if a book doesn't have an author, it will return `None`.\n",
       "3. The list comprehension `[value for book in books if value]` filters out books without authors.\n",
       "4. The resulting dictionary of authors is then yielded by the generator.\n",
       "\n",
       "**Why the Code Uses `yield from`**\n",
       "\n",
       "The `yield from` expression allows us to yield values from another iterator (in this case, the dictionary access) without having to explicitly iterate over it ourselves. This makes the code more concise and easier to read.\n",
       "\n",
       "In traditional Python iteration, we would have to write a nested loop like this:\n",
       "```python\n",
       "for book in books:\n",
       "    for value in {get_value(book, \"author\") if get_value(book, \"author\") else None}:\n",
       "        yield value\n",
       "```\n",
       "By using `yield from`, we can avoid this nested loop and make the code more efficient.\n",
       "\n",
       "**Example Output**\n",
       "\n",
       "When you call `get_authors()`, it will yield a dictionary with author names as values. The output might look like this:\n",
       "```python\n",
       "{\n",
       "    \"Author A\": None,\n",
       "    \"Author C\": None\n",
       "}\n",
       "```\n",
       "This indicates that only two books (\"Book 1\" and \"Book 3\") have authors, but the other book (\"Book 2\") doesn't have an author."
      ],
      "text/plain": [
       "<IPython.core.display.Markdown object>"
      ]
     },
     "metadata": {},
     "output_type": "display_data"
    }
   ],
   "source": [
    "# Get Llama 3.2 to answer\n",
    "\n",
    "response = ollama.chat(model=MODEL_LLAMA, messages=messages)\n",
    "reply = response['message']['content']\n",
    "display(Markdown(reply))"
   ]
  },
  {
   "cell_type": "markdown",
   "metadata": {},
   "source": [
    "# Improvement: Interactive input prompt"
   ]
  },
  {
   "cell_type": "code",
   "execution_count": 18,
   "metadata": {},
   "outputs": [
    {
     "name": "stdout",
     "output_type": "stream",
     "text": [
      "who am i\n"
     ]
    }
   ],
   "source": [
    "user_question = input(\"Please enter your question:\")\n",
    "print(user_question)\n",
    "\n",
    "## Check previous commented \"my_question\" and uncommented to test\n",
    "# Change the \"question\" to \"my_question\"\n",
    "\n",
    "# Typing question when executing the question code above.\n",
    "# I input \"Please create python code to generate fibonacci number betwee 50 and 100"
   ]
  },
  {
   "cell_type": "code",
   "execution_count": 25,
   "metadata": {},
   "outputs": [
    {
     "data": {
      "text/markdown": [
       "Sure! The Fibonacci sequence is a series of numbers where each number (after the first two) is the sum of the two preceding ones. It typically starts from 0 and 1. The Fibonacci sequence looks like this: 0, 1, 1, 2, 3, 5, 8, 13, 21, 34, 55, 89, and so on.\n",
       "\n",
       "To generate Fibonacci numbers specifically between 50 and 100, we can use an iterative approach. Let's break down the process:\n",
       "\n",
       "1. **Initialize the First Two Fibonacci Numbers**: Start with the first two numbers in the sequence, 0 and 1.\n",
       "2. **Iterate to Generate the Sequence**: Continuously calculate the next Fibonacci number by summing the two previous numbers until the next number exceeds 100.\n",
       "3. **Check for the Range**: During the iteration, we check if the generated Fibonacci number is within the range of 50 to 100.\n",
       "4. **Store or Print the Valid Fibonacci Numbers**: If a number is within the specified range, we can store it in a list or print it directly.\n",
       "\n",
       "Here's the Python code implementing the above logic:\n",
       "\n",
       "python\n",
       "def fibonacci_in_range(start, end):\n",
       "    # Initialize the first two Fibonacci numbers\n",
       "    a, b = 0, 1\n",
       "    fib_numbers = []  # List to hold Fibonacci numbers in the specified range\n",
       "    \n",
       "    # Generate Fibonacci numbers until we exceed the 'end'\n",
       "    while a <= end:\n",
       "        # Check if the Fibonacci number is within the specified range\n",
       "        if start <= a <= end:\n",
       "            fib_numbers.append(a)  # Add to list if it is in the range\n",
       "        # Move to the next Fibonacci number\n",
       "        a, b = b, a + b  # update a and b to the next Fibonacci numbers\n",
       "    \n",
       "    return fib_numbers  # Return the list of Fibonacci numbers\n",
       "\n",
       "# Call the function to get Fibonacci numbers between 50 and 100\n",
       "result = fibonacci_in_range(50, 100)\n",
       "print(result)  # Output the result\n",
       "\n",
       "\n",
       "### Explanation of the Code:\n",
       "\n",
       "1. **Function Definition**: We define a function `fibonacci_in_range(start, end)` to encapsulate the logic. It takes two parameters, `start` and `end`, which signify the range for generating Fibonacci numbers.\n",
       "   \n",
       "2. **Initialization**: Variables `a` and `b` are initialized to `0` and `1`, the first two Fibonacci numbers. We also create a list `fib_numbers` to store results.\n",
       "\n",
       "3. **While Loop**: The loop runs as long as `a` is less than or equal to `end` (100 in this case):\n",
       "   - **Range Check**: Inside the loop, we check if the current Fibonacci number `a` is between `start` (50) and `end` (100). If yes, we append it to `fib_numbers`.\n",
       "   - **Generating Next Fibonacci Numbers**: We update `a` and `b` to the next two Fibonacci numbers using the tuple unpacking method: `a, b = b, a + b`.\n",
       "\n",
       "4. **Return Statement**: Finally, the function returns the list of Fibonacci numbers within the specified range.\n",
       "\n",
       "5. **Function Call**: We call the function with the range of `50` to `100` and print the returned list.\n",
       "\n",
       "### Output\n",
       "\n",
       "When you run the code, the following output will be generated, showing the Fibonacci numbers between 50 and 100:\n",
       "\n",
       "\n",
       "[55, 89]\n",
       "\n",
       "\n",
       "These numbers, 55 and 89, are the only Fibonacci numbers that fall within the range specified."
      ],
      "text/plain": [
       "<IPython.core.display.Markdown object>"
      ]
     },
     "metadata": {},
     "output_type": "display_data"
    }
   ],
   "source": [
    "# Get gpt-4o-mini to answer, with streaming\n",
    "\n",
    "stream = openai.chat.completions.create(model=MODEL_GPT, messages=messages,stream=True)\n",
    "    \n",
    "response = \"\"\n",
    "display_handle = display(Markdown(\"\"), display_id=True)\n",
    "for chunk in stream:\n",
    "    response += chunk.choices[0].delta.content or ''\n",
    "    response = response.replace(\"```\",\"\").replace(\"markdown\", \"\")\n",
    "    update_display(Markdown(response), display_id=display_handle.display_id)"
   ]
  },
  {
   "cell_type": "code",
   "execution_count": 26,
   "metadata": {},
   "outputs": [
    {
     "data": {
      "text/markdown": [
       "**Generating Fibonacci Numbers in Python**\n",
       "=====================================================\n",
       "\n",
       "The Fibonacci sequence is a series of numbers where each number is the sum of the two preceding ones, usually starting with 0 and 1. Here's an example of how you can generate Fibonacci numbers within a specific range using Python.\n",
       "\n",
       "### Code\n",
       "```python\n",
       "def fibonacci(n):\n",
       "    \"\"\"\n",
       "    Generate Fibonacci numbers up to n.\n",
       "    \n",
       "    Args:\n",
       "        n (int): The maximum value in the sequence.\n",
       "    \n",
       "    Returns:\n",
       "        list: A list of Fibonacci numbers up to n.\n",
       "    \"\"\"\n",
       "    fib_sequence = [0, 1]\n",
       "    while True:\n",
       "        next_fib = fib_sequence[-1] + fib_sequence[-2]\n",
       "        if next_fib > n:\n",
       "            break\n",
       "        fib_sequence.append(next_fib)\n",
       "    return fib_sequence\n",
       "\n",
       "def generate_fibonacci_in_range(min_val, max_val):\n",
       "    \"\"\"\n",
       "    Generate Fibonacci numbers within a specific range.\n",
       "    \n",
       "    Args:\n",
       "        min_val (int): The minimum value in the range.\n",
       "        max_val (int): The maximum value in the range.\n",
       "    \n",
       "    Returns:\n",
       "        list: A list of Fibonacci numbers within the specified range.\n",
       "    \"\"\"\n",
       "    fib_sequence = fibonacci(max(max_val, 50))  # Ensure we have at least one Fibonacci number between 50 and 100\n",
       "    return [num for num in fib_sequence if min_val <= num <= max_val]\n",
       "\n",
       "# Example usage:\n",
       "min_val = 50\n",
       "max_val = 100\n",
       "\n",
       "fib_numbers_in_range = generate_fibonacci_in_range(min_val, max_val)\n",
       "print(f\"Fibonacci numbers between {min_val} and {max_val}: {fib_numbers_in_range}\")\n",
       "```\n",
       "\n",
       "### Explanation\n",
       "\n",
       "This code defines two functions:\n",
       "\n",
       "1. `fibonacci(n)`: Generates Fibonacci numbers up to the specified value `n`. It starts with a list containing 0 and 1, then enters a loop where it calculates the next number in the sequence as the sum of the last two numbers. If the new number exceeds `n`, it breaks out of the loop.\n",
       "2. `generate_fibonacci_in_range(min_val, max_val)`: Uses the `fibonacci` function to generate Fibonacci numbers up to a maximum value, ensuring we have at least one Fibonacci number between 50 and 100. It then filters this sequence to include only numbers within the specified range.\n",
       "\n",
       "The example usage demonstrates how to call these functions with specific input values (`min_val = 50`, `max_val = 100`) and prints the resulting list of Fibonacci numbers within that range.\n",
       "\n",
       "**Note:** This code uses a naive approach to generate Fibonacci numbers, which can be slow for large values. If you need to handle larger ranges or performance-critical applications, consider using an iterative approach or a more efficient algorithm like the matrix exponentiation method."
      ],
      "text/plain": [
       "<IPython.core.display.Markdown object>"
      ]
     },
     "metadata": {},
     "output_type": "display_data"
    }
   ],
   "source": [
    "response = ollama.chat(model=MODEL_LLAMA, messages=messages)\n",
    "reply = response['message']['content']\n",
    "display(Markdown(reply))\n"
   ]
  },
  {
   "cell_type": "code",
   "execution_count": null,
   "metadata": {},
   "outputs": [],
   "source": []
  }
 ],
 "metadata": {
  "kernelspec": {
   "display_name": ".venv",
   "language": "python",
   "name": "python3"
  },
  "language_info": {
   "codemirror_mode": {
    "name": "ipython",
    "version": 3
   },
   "file_extension": ".py",
   "mimetype": "text/x-python",
   "name": "python",
   "nbconvert_exporter": "python",
   "pygments_lexer": "ipython3",
   "version": "3.12.4"
  }
 },
 "nbformat": 4,
 "nbformat_minor": 2
}
