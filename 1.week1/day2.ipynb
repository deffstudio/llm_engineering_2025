{
 "cells": [
  {
   "cell_type": "markdown",
   "metadata": {},
   "source": [
    "# Web Summary using Ollama\n",
    "\n",
    "Access Ollama on local server `http://localhost:11434/`\n",
    "\n",
    "If is not running, start it using `ollama serve` on your console/ terminal.\n",
    "You should sse the message `Ollama is running.` "
   ]
  },
  {
   "cell_type": "code",
   "execution_count": 1,
   "metadata": {},
   "outputs": [],
   "source": [
    "# imports\n",
    "import requests\n",
    "from bs4 import BeautifulSoup\n",
    "from IPython.display import Markdown, display"
   ]
  },
  {
   "cell_type": "code",
   "execution_count": 2,
   "metadata": {},
   "outputs": [],
   "source": [
    "# Constants\n",
    "OLLAMA_API=\"http://localhost:11434/api/chat\"\n",
    "HEADERS={'Content-Type': 'application/json'}\n",
    "MODEL=\"llama3.2\" "
   ]
  },
  {
   "cell_type": "code",
   "execution_count": 3,
   "metadata": {},
   "outputs": [],
   "source": [
    "# Create a messages list using the same format that we used for OpenAI\n",
    "\n",
    "messages = [\n",
    "    {\"role\": \"user\", \"content\": \"Describe some of the business applications of Generative AI\"}\n",
    "]"
   ]
  },
  {
   "cell_type": "code",
   "execution_count": 5,
   "metadata": {},
   "outputs": [],
   "source": [
    "payload = {\n",
    "        \"model\": MODEL,\n",
    "        \"messages\": messages,\n",
    "        \"stream\": False\n",
    "    }"
   ]
  },
  {
   "cell_type": "code",
   "execution_count": 6,
   "metadata": {},
   "outputs": [
    {
     "name": "stdout",
     "output_type": "stream",
     "text": [
      "Generative AI has numerous business applications across various industries, including:\n",
      "\n",
      "1. **Content Generation**: AI can generate high-quality content such as articles, social media posts, and product descriptions, saving time and resources for businesses.\n",
      "2. **Product Design**: Generative AI can create 3D models, product designs, and prototypes, enabling companies to develop new products more quickly and efficiently.\n",
      "3. **Marketing Automation**: AI-powered chatbots and virtual assistants can personalize customer interactions, respond to inquiries, and provide real-time support.\n",
      "4. **Customer Service**: Generative AI can analyze customer feedback, identify patterns, and generate personalized responses to improve customer satisfaction and loyalty.\n",
      "5. **Creative Writing**: AI-generated content, such as blog posts, copywriting, and even entire books, can help businesses save time and resources on creative writing tasks.\n",
      "6. **Image and Video Generation**: AI-powered image and video generation can be used for various applications like product visualizations, advertising, and social media content creation.\n",
      "7. **Data Analysis**: Generative AI can analyze large datasets, identify patterns, and generate insights that help businesses make informed decisions.\n",
      "8. **Predictive Maintenance**: AI-powered predictive maintenance can detect potential equipment failures, reducing downtime and increasing overall efficiency.\n",
      "9. **Personalized Recommendations**: Generative AI can analyze customer behavior, preferences, and demographics to provide personalized product recommendations.\n",
      "10. **Chatbots and Virtual Assistants**: AI-powered chatbots and virtual assistants can help businesses automate tasks, provide 24/7 support, and improve customer satisfaction.\n",
      "11. **Sales Enablement**: AI-generated content, such as sales scripts, presentations, and pitches, can help businesses enhance their sales teams' performance.\n",
      "12. **Financial Modeling**: Generative AI can analyze financial data, identify trends, and generate predictive models to aid businesses in making informed investment decisions.\n",
      "13. **Customer Journey Mapping**: AI-powered customer journey mapping can help businesses understand customer behavior, preferences, and pain points, enabling them to create more effective marketing strategies.\n",
      "14. **Social Media Monitoring**: Generative AI can analyze social media conversations, sentiment analysis, and identify trends, helping businesses stay on top of their online presence.\n",
      "15. **Employee Onboarding**: AI-powered employee onboarding platforms can help businesses streamline the onboarding process, reducing administrative burdens and improving new hire experiences.\n",
      "\n",
      "These are just a few examples of the many business applications of Generative AI. As the technology continues to evolve, we can expect to see even more innovative uses across various industries.\n"
     ]
    }
   ],
   "source": [
    "response = requests.post(OLLAMA_API, json=payload, headers=HEADERS)\n",
    "print(response.json()['message']['content'])"
   ]
  },
  {
   "cell_type": "markdown",
   "metadata": {},
   "source": [
    "# Introducing the ollama package"
   ]
  },
  {
   "cell_type": "code",
   "execution_count": 7,
   "metadata": {},
   "outputs": [
    {
     "name": "stdout",
     "output_type": "stream",
     "text": [
      "Generative AI has numerous business applications across various industries, including:\n",
      "\n",
      "1. **Content Creation**: Generate high-quality content such as articles, social media posts, product descriptions, and even entire books using text generation models.\n",
      "2. **Marketing Automation**: Use generative AI to create personalized marketing messages, emails, and ads that cater to individual customers' interests and preferences.\n",
      "3. **Product Design**: Utilize generative design tools to create innovative product designs, prototypes, and visualizations, reducing the need for manual sketches and iterations.\n",
      "4. **Image and Video Generation**: Generate high-quality images and videos for marketing materials, advertising campaigns, and social media content using deep learning-based models like DALL-E or Midjourney.\n",
      "5. **Chatbots and Virtual Assistants**: Develop more sophisticated chatbots that can understand context, emotions, and intent, providing a better user experience for customers.\n",
      "6. **Predictive Maintenance**: Use generative AI to analyze sensor data from machines and predict when maintenance is required, reducing downtime and increasing overall efficiency.\n",
      "7. **Personalized Recommendations**: Generate personalized product recommendations based on customer behavior, preferences, and purchase history using collaborative filtering or content-based recommendation algorithms.\n",
      "8. **Audio and Music Generation**: Create original music tracks, voiceovers, and sound effects for films, TV shows, and video games using generative audio models like Amper Music or AIVA.\n",
      "9. **Data Analysis and Visualization**: Use generative AI to create interactive visualizations of complex data sets, helping businesses uncover insights and trends they may not have noticed otherwise.\n",
      "10. **Customer Service**: Develop automated customer service tools that can understand customer queries, provide empathetic responses, and escalate complex issues to human agents when necessary.\n",
      "\n",
      "Some specific business use cases for Generative AI include:\n",
      "\n",
      "* **Amazon's Product Images**: Amazon uses generative AI to create product images from scratch, reducing the need for photographers and making product visuals more consistent.\n",
      "* **Uber's Customer Service Chatbots**: Uber has implemented a chatbot that uses generative AI to understand customer queries and provide personalized responses, improving customer satisfaction.\n",
      "* **Nike's Product Design**: Nike has used generative design tools to create innovative shoe designs and prototypes, reducing the time and cost associated with traditional design processes.\n",
      "\n",
      "These are just a few examples of how Generative AI is being applied in business. As the technology continues to evolve, we can expect to see even more innovative applications across various industries.\n"
     ]
    }
   ],
   "source": [
    "import ollama\n",
    "\n",
    "response=ollama.chat(model=MODEL, messages=messages)\n",
    "print(response['message']['content'])"
   ]
  },
  {
   "cell_type": "markdown",
   "metadata": {},
   "source": [
    "# Alternative approach - using OpenAI python library to connect to Ollama"
   ]
  },
  {
   "cell_type": "code",
   "execution_count": 8,
   "metadata": {},
   "outputs": [
    {
     "name": "stdout",
     "output_type": "stream",
     "text": [
      "Generative AI has numerous business applications across various industries. Here are some examples:\n",
      "\n",
      "1. **Content creation**: Generative AI tools like language models, image generators, and music composers can create high-quality content quickly and efficiently, reducing the need for human writers or artists.\n",
      "2. **Marketing and advertising**: Generative AI can generate personalized product recommendations, social media posts, and even entire ad campaigns based on customer data and behavior patterns.\n",
      "3. **Customer service and support**: Chatbots powered by generative AI can provide 24/7 customer support, respond to frequently asked questions, and even offer personalized solutions to customers.\n",
      "4. **Product design and engineering**: Generative AI can help designers create products more efficiently by generating multiple design options, optimizing product features, and predicting user behavior.\n",
      "5. **Finance and accounting**: Generative AI can automate financial analysis, risk assessment, and compliance reporting, reducing the workload for accountants and auditors.\n",
      "6. **Healthcare and medical research**: Generative AI can help analyze large datasets, identify patterns, and generate new hypotheses for medical research, leading to breakthroughs in disease diagnosis and treatment.\n",
      "7. **Manufacturing and supply chain management**: Generative AI can optimize production workflows, predict demand, and generate inventory forecasts, improving efficiency and reducing costs.\n",
      "8. **Education and learning**: Generative AI can create personalized educational content, grade assignments, and provide feedback to students, making education more accessible and effective.\n",
      "9. **Graphic design and visual arts**: Generative AI can generate stunning visuals, logos, and branding materials, reducing the need for human designers and providing unique creative solutions.\n",
      "10. **Data analysis and visualization**: Generative AI can help analyze large datasets, identify patterns, and create interactive visualizations, making data-driven decision-making more accessible to non-experts.\n",
      "11. **Cybersecurity**: Generative AI can detect anomalies in network traffic, predict security threats, and generate intrusion detection rules, improving the effectiveness of security systems.\n",
      "12. **HR and talent management**: Generative AI can help predict employee turnover, identify top talent, and generate personalized training and development plans.\n",
      "\n",
      "These are just a few examples of the many business applications of generative AI. As the technology continues to evolve, we can expect even more innovative solutions to emerge across various industries.\n"
     ]
    }
   ],
   "source": [
    "# There's actually an alternative approach that some people might prefer\n",
    "# You can use the OpenAI client python library to call Ollama:\n",
    "\n",
    "from openai import OpenAI\n",
    "ollama_via_openai = OpenAI(base_url='http://localhost:11434/v1', api_key='ollama')\n",
    "\n",
    "response = ollama_via_openai.chat.completions.create(\n",
    "    model=MODEL,\n",
    "    messages=messages\n",
    ")\n",
    "\n",
    "print(response.choices[0].message.content)"
   ]
  },
  {
   "cell_type": "markdown",
   "metadata": {},
   "source": [
    "# Exercises Day 2"
   ]
  },
  {
   "cell_type": "code",
   "execution_count": 9,
   "metadata": {},
   "outputs": [],
   "source": [
    "# imports\n",
    "import requests\n",
    "from bs4 import BeautifulSoup\n",
    "from IPython.display import Markdown, display"
   ]
  },
  {
   "cell_type": "code",
   "execution_count": 10,
   "metadata": {},
   "outputs": [],
   "source": [
    "MODEL=\"llama3.2\""
   ]
  },
  {
   "cell_type": "code",
   "execution_count": 11,
   "metadata": {},
   "outputs": [],
   "source": [
    "# Class website scraper\n",
    "\n",
    "class Website:\n",
    "    url: str # url of the website\n",
    "    title: str # title of the website\n",
    "    text: str # text of the website\n",
    "    \n",
    "    def __init__(self, url: str):\n",
    "        self.url=url\n",
    "        response=requests.get(url)\n",
    "        soup=BeautifulSoup(response.content, 'html.parser')\n",
    "        self.title = soup.title.string if soup.title else \"Title not found\"\n",
    "        for irrelevant in soup(['script', 'style','img','input']):\n",
    "            irrelevant.decompose()\n",
    "        self.text=soup.body.get_text(separator='\\n',strip=True)\n",
    "        "
   ]
  },
  {
   "cell_type": "code",
   "execution_count": 12,
   "metadata": {},
   "outputs": [
    {
     "name": "stdout",
     "output_type": "stream",
     "text": [
      "Home - Edward Donner\n",
      "Home\n",
      "Outsmart\n",
      "An arena that pits LLMs against each other in a battle of diplomacy and deviousness\n",
      "About\n",
      "Posts\n",
      "Well, hi there.\n",
      "I’m Ed. I like writing code and experimenting with LLMs, and hopefully you’re here because you do too. I also enjoy DJing (but I’m badly out of practice), amateur electronic music production (\n",
      "very\n",
      "amateur) and losing myself in\n",
      "Hacker News\n",
      ", nodding my head sagely to things I only half understand.\n",
      "I’m the co-founder and CTO of\n",
      "Nebula.io\n",
      ". We’re applying AI to a field where it can make a massive, positive impact: helping people discover their potential and pursue their reason for being. Recruiters use our product today to source, understand, engage and manage talent. I’m previously the founder and CEO of AI startup untapt,\n",
      "acquired in 2021\n",
      ".\n",
      "We work with groundbreaking, proprietary LLMs verticalized for talent, we’ve\n",
      "patented\n",
      "our matching model, and our award-winning platform has happy customers and tons of press coverage.\n",
      "Connect\n",
      "with me for more!\n",
      "December 21, 2024\n",
      "Welcome, SuperDataScientists!\n",
      "November 13, 2024\n",
      "Mastering AI and LLM Engineering – Resources\n",
      "October 16, 2024\n",
      "From Software Engineer to AI Data Scientist – resources\n",
      "August 6, 2024\n",
      "Outsmart LLM Arena – a battle of diplomacy and deviousness\n",
      "Navigation\n",
      "Home\n",
      "Outsmart\n",
      "An arena that pits LLMs against each other in a battle of diplomacy and deviousness\n",
      "About\n",
      "Posts\n",
      "Get in touch\n",
      "ed [at] edwarddonner [dot] com\n",
      "www.edwarddonner.com\n",
      "Follow me\n",
      "LinkedIn\n",
      "Twitter\n",
      "Facebook\n",
      "Subscribe to newsletter\n",
      "Type your email…\n",
      "Subscribe\n"
     ]
    }
   ],
   "source": [
    "# Let's try it out\n",
    "ed=Website(\"https://edwarddonner.com\")\n",
    "print(ed.title)\n",
    "print(ed.text)"
   ]
  },
  {
   "cell_type": "markdown",
   "metadata": {},
   "source": [
    "# Types of prompts\n",
    "\n",
    "- **System prompt**\n",
    "- **User prompt**"
   ]
  },
  {
   "cell_type": "code",
   "execution_count": 13,
   "metadata": {},
   "outputs": [],
   "source": [
    "# Define our system prompt - you can experiment with this later, changing the last sentence to 'Respond in markdown in Spanish.\"\n",
    "\n",
    "system_prompt = \"You are an assistant that analyzes the contents of a website \\\n",
    "and provides a short summary, ignoring text that might be navigation related. \\\n",
    "Respond in markdown.\""
   ]
  },
  {
   "cell_type": "code",
   "execution_count": 14,
   "metadata": {},
   "outputs": [],
   "source": [
    "# A function that writes a User Prompt that asks for summaries of websites:\n",
    "\n",
    "def user_prompt_for(website):\n",
    "    user_prompt = f\"You are looking at a website titled {website.title}\"\n",
    "    user_prompt += \"The contents of this website is as follows; \\\n",
    "please provide a short summary of this website in markdown. \\\n",
    "If it includes news or announcements, then summarize these too.\\n\\n\"\n",
    "    user_prompt += website.text\n",
    "    return user_prompt"
   ]
  },
  {
   "cell_type": "markdown",
   "metadata": {},
   "source": [
    "# Messages\n",
    "The API from Ollama expects the same message format as OPENAI:\n",
    "\n",
    "```\n",
    "[\n",
    "    {\"role\": \"system\", \"content\": \"system message goes here\"},\n",
    "    {\"role\": \"user\", \"content\": \"user message goes here\"}\n",
    "]\n",
    "```"
   ]
  },
  {
   "cell_type": "code",
   "execution_count": 15,
   "metadata": {},
   "outputs": [],
   "source": [
    "# See how this function creates exactly the format above\n",
    "\n",
    "def messages_for(website):\n",
    "    return [\n",
    "        {\"role\": \"system\", \"content\": system_prompt},\n",
    "        {\"role\": \"user\", \"content\": user_prompt_for(website)}\n",
    "    ]"
   ]
  },
  {
   "cell_type": "code",
   "execution_count": 16,
   "metadata": {},
   "outputs": [],
   "source": [
    "# And now: call the Ollama function instead of OpenAI\n",
    "\n",
    "def summarize(url):\n",
    "    website = Website(url)\n",
    "    messages = messages_for(website)\n",
    "    response = ollama.chat(model=MODEL, messages=messages)\n",
    "    return response['message']['content']"
   ]
  },
  {
   "cell_type": "code",
   "execution_count": 17,
   "metadata": {},
   "outputs": [
    {
     "data": {
      "text/plain": [
       "'**Summary**\\n===============\\n\\n### Website Overview\\n\\nThe website is about Edward Donner, a developer and AI enthusiast. The site features an \"Outsmart\" arena where Large Language Models (LLMs) engage in a battle of diplomacy and deviousness.\\n\\n### Recent Announcements\\n------------------------\\n\\n*   **December 21, 2024**: Welcome message to SuperDataScientists.\\n*   **November 13, 2024**: Announcement about mastering AI and LLM engineering resources.\\n*   **October 16, 2024**: Introduction of resource page for transitioning from software engineer to AI data scientist.\\n*   **August 6, 2024**: Announcement about the Outsmart LLM Arena.\\n\\n### Website Features\\n-------------------\\n\\n*   About section: Introduces Edward Donner and his work on applying AI to help people discover their potential.\\n*   Posts section: Lists recent blog posts, but not provided in the given content.\\n*   Contact information: Includes an email address, website URL, and social media links.'"
      ]
     },
     "execution_count": 17,
     "metadata": {},
     "output_type": "execute_result"
    }
   ],
   "source": [
    "summarize(\"https://edwarddonner.com\")"
   ]
  },
  {
   "cell_type": "code",
   "execution_count": 18,
   "metadata": {},
   "outputs": [],
   "source": [
    "# A function to display this nicely in the Jupyter output, using markdown\n",
    "\n",
    "def display_summary(url):\n",
    "    summary = summarize(url)\n",
    "    display(Markdown(summary))"
   ]
  },
  {
   "cell_type": "code",
   "execution_count": 19,
   "metadata": {},
   "outputs": [
    {
     "data": {
      "text/markdown": [
       "**Summary**\n",
       "```markdown\n",
       "# Edward Donner's Website Summary\n",
       "\n",
       "This website appears to be the personal blog of Edward Donner, a co-founder and CTO of Nebula.io. He shares his interests in AI, LLMs, and coding, as well as updates about his work at Nebula.io.\n",
       "\n",
       "### News/Announcements\n",
       "\n",
       "* **Welcome SuperDataScientists! (December 21, 2024)**: A warm welcome to his audience.\n",
       "* **Mastering AI and LLM Engineering – Resources (October 16, 2024)**: Sharing resources for mastering AI and LLM engineering.\n",
       "* **From Software Engineer to AI Data Scientist – resources (August 6, 2024)**: Offering resources for transitioning from a software engineer to an AI data scientist.\n",
       "* **Outsmart LLM Arena – a battle of diplomacy and deviousness**: A unique arena where LLMs compete against each other in a game of diplomacy and strategy.\n",
       "\n",
       "### About\n",
       "Edward Donner is the co-founder and CTO of Nebula.io, which applies AI to help people discover their potential. He has previously founded and led another AI startup, untapt, which was acquired in 2021.\n",
       "```\n",
       "Note: I've ignored navigation-related text as per your request."
      ],
      "text/plain": [
       "<IPython.core.display.Markdown object>"
      ]
     },
     "metadata": {},
     "output_type": "display_data"
    }
   ],
   "source": [
    "display_summary(\"https://edwarddonner.com\")"
   ]
  }
 ],
 "metadata": {
  "kernelspec": {
   "display_name": ".venv",
   "language": "python",
   "name": "python3"
  },
  "language_info": {
   "codemirror_mode": {
    "name": "ipython",
    "version": 3
   },
   "file_extension": ".py",
   "mimetype": "text/x-python",
   "name": "python",
   "nbconvert_exporter": "python",
   "pygments_lexer": "ipython3",
   "version": "3.12.4"
  }
 },
 "nbformat": 4,
 "nbformat_minor": 2
}
